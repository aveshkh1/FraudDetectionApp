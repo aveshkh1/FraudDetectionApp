{
 "cells": [
  {
   "cell_type": "markdown",
   "id": "e26d9c3a-b032-4ebc-866f-2e707f5172e7",
   "metadata": {},
   "source": [
    "# 🧠 Fraud Detection with Machine Learning\n",
    "This notebook implements a full machine learning pipeline for detecting fraudulent transactions on a dataset containing 6 million records. It includes data exploration, preprocessing, feature engineering, model training, evaluation.\n"
   ]
  },
  {
   "cell_type": "code",
   "execution_count": 1,
   "id": "c99fa1a1-1e91-4635-bc16-0267c47574bc",
   "metadata": {},
   "outputs": [
    {
     "data": {
      "text/html": [
       "<div>\n",
       "<style scoped>\n",
       "    .dataframe tbody tr th:only-of-type {\n",
       "        vertical-align: middle;\n",
       "    }\n",
       "\n",
       "    .dataframe tbody tr th {\n",
       "        vertical-align: top;\n",
       "    }\n",
       "\n",
       "    .dataframe thead th {\n",
       "        text-align: right;\n",
       "    }\n",
       "</style>\n",
       "<table border=\"1\" class=\"dataframe\">\n",
       "  <thead>\n",
       "    <tr style=\"text-align: right;\">\n",
       "      <th></th>\n",
       "      <th>step</th>\n",
       "      <th>type</th>\n",
       "      <th>amount</th>\n",
       "      <th>nameOrig</th>\n",
       "      <th>oldbalanceOrg</th>\n",
       "      <th>newbalanceOrig</th>\n",
       "      <th>nameDest</th>\n",
       "      <th>oldbalanceDest</th>\n",
       "      <th>newbalanceDest</th>\n",
       "      <th>isFraud</th>\n",
       "      <th>isFlaggedFraud</th>\n",
       "    </tr>\n",
       "  </thead>\n",
       "  <tbody>\n",
       "    <tr>\n",
       "      <th>0</th>\n",
       "      <td>1</td>\n",
       "      <td>PAYMENT</td>\n",
       "      <td>9839.64</td>\n",
       "      <td>C1231006815</td>\n",
       "      <td>170136.0</td>\n",
       "      <td>160296.36</td>\n",
       "      <td>M1979787155</td>\n",
       "      <td>0.0</td>\n",
       "      <td>0.0</td>\n",
       "      <td>0</td>\n",
       "      <td>0</td>\n",
       "    </tr>\n",
       "    <tr>\n",
       "      <th>1</th>\n",
       "      <td>1</td>\n",
       "      <td>PAYMENT</td>\n",
       "      <td>1864.28</td>\n",
       "      <td>C1666544295</td>\n",
       "      <td>21249.0</td>\n",
       "      <td>19384.72</td>\n",
       "      <td>M2044282225</td>\n",
       "      <td>0.0</td>\n",
       "      <td>0.0</td>\n",
       "      <td>0</td>\n",
       "      <td>0</td>\n",
       "    </tr>\n",
       "    <tr>\n",
       "      <th>2</th>\n",
       "      <td>1</td>\n",
       "      <td>TRANSFER</td>\n",
       "      <td>181.00</td>\n",
       "      <td>C1305486145</td>\n",
       "      <td>181.0</td>\n",
       "      <td>0.00</td>\n",
       "      <td>C553264065</td>\n",
       "      <td>0.0</td>\n",
       "      <td>0.0</td>\n",
       "      <td>1</td>\n",
       "      <td>0</td>\n",
       "    </tr>\n",
       "    <tr>\n",
       "      <th>3</th>\n",
       "      <td>1</td>\n",
       "      <td>CASH_OUT</td>\n",
       "      <td>181.00</td>\n",
       "      <td>C840083671</td>\n",
       "      <td>181.0</td>\n",
       "      <td>0.00</td>\n",
       "      <td>C38997010</td>\n",
       "      <td>21182.0</td>\n",
       "      <td>0.0</td>\n",
       "      <td>1</td>\n",
       "      <td>0</td>\n",
       "    </tr>\n",
       "    <tr>\n",
       "      <th>4</th>\n",
       "      <td>1</td>\n",
       "      <td>PAYMENT</td>\n",
       "      <td>11668.14</td>\n",
       "      <td>C2048537720</td>\n",
       "      <td>41554.0</td>\n",
       "      <td>29885.86</td>\n",
       "      <td>M1230701703</td>\n",
       "      <td>0.0</td>\n",
       "      <td>0.0</td>\n",
       "      <td>0</td>\n",
       "      <td>0</td>\n",
       "    </tr>\n",
       "  </tbody>\n",
       "</table>\n",
       "</div>"
      ],
      "text/plain": [
       "   step      type    amount     nameOrig  oldbalanceOrg  newbalanceOrig  \\\n",
       "0     1   PAYMENT   9839.64  C1231006815       170136.0       160296.36   \n",
       "1     1   PAYMENT   1864.28  C1666544295        21249.0        19384.72   \n",
       "2     1  TRANSFER    181.00  C1305486145          181.0            0.00   \n",
       "3     1  CASH_OUT    181.00   C840083671          181.0            0.00   \n",
       "4     1   PAYMENT  11668.14  C2048537720        41554.0        29885.86   \n",
       "\n",
       "      nameDest  oldbalanceDest  newbalanceDest  isFraud  isFlaggedFraud  \n",
       "0  M1979787155             0.0             0.0        0               0  \n",
       "1  M2044282225             0.0             0.0        0               0  \n",
       "2   C553264065             0.0             0.0        1               0  \n",
       "3    C38997010         21182.0             0.0        1               0  \n",
       "4  M1230701703             0.0             0.0        0               0  "
      ]
     },
     "execution_count": 1,
     "metadata": {},
     "output_type": "execute_result"
    }
   ],
   "source": [
    "#Data Loading\n",
    "import pandas as pd\n",
    "df=pd.read_csv(\"Fraud.csv\")\n",
    "df.shape\n",
    "df.head()"
   ]
  },
  {
   "cell_type": "code",
   "execution_count": 2,
   "id": "cc3e6da4-9fc2-4ba5-9d76-bc7e792ae357",
   "metadata": {},
   "outputs": [
    {
     "name": "stdout",
     "output_type": "stream",
     "text": [
      "step              0\n",
      "type              0\n",
      "amount            0\n",
      "nameOrig          0\n",
      "oldbalanceOrg     0\n",
      "newbalanceOrig    0\n",
      "nameDest          0\n",
      "oldbalanceDest    0\n",
      "newbalanceDest    0\n",
      "isFraud           0\n",
      "isFlaggedFraud    0\n",
      "dtype: int64\n",
      "Duplicates: 0\n"
     ]
    }
   ],
   "source": [
    "# Checking for nulls\n",
    "print(df.isnull().sum())\n",
    "\n",
    "# Checking duplicates\n",
    "print(\"Duplicates:\", df.duplicated().sum())\n",
    "\n",
    "# Dropping the duplicates if any\n",
    "df.drop_duplicates(inplace=True)\n"
   ]
  },
  {
   "cell_type": "code",
   "execution_count": 3,
   "id": "e61b611d-c828-4583-9d34-325fb6694550",
   "metadata": {},
   "outputs": [],
   "source": [
    "#dropping unnecessary features\n",
    "df = df.drop(['nameOrig', 'nameDest', 'isFlaggedFraud'], axis=1)"
   ]
  },
  {
   "cell_type": "code",
   "execution_count": 4,
   "id": "5f4ff38c-c4cc-4879-9b54-5e148c9d731a",
   "metadata": {},
   "outputs": [
    {
     "data": {
      "text/plain": [
       "<Axes: title={'center': 'Class Distribution'}, xlabel='isFraud'>"
      ]
     },
     "execution_count": 4,
     "metadata": {},
     "output_type": "execute_result"
    },
    {
     "data": {
      "image/png": "[encoded data removed]",
      "text/plain": [
       "<Figure size 640x480 with 1 Axes>"
      ]
     },
     "metadata": {},
     "output_type": "display_data"
    }
   ],
   "source": [
    "#checking the class imbalance\n",
    "df['isFraud'].value_counts(normalize=True).plot(kind='bar', title='Class Distribution')\n"
   ]
  },
  {
   "cell_type": "code",
   "execution_count": 5,
   "id": "503270ab-1ddb-47e0-becb-f47270d9e534",
   "metadata": {},
   "outputs": [
    {
     "name": "stdout",
     "output_type": "stream",
     "text": [
      "isFraud\n",
      "0    6354407\n",
      "1       8213\n",
      "Name: count, dtype: int64\n",
      "isFraud\n",
      "0    99.870918\n",
      "1     0.129082\n",
      "Name: proportion, dtype: float64\n"
     ]
    }
   ],
   "source": [
    "# Checking the number of fraud and non-fraud cases\n",
    "print(df['isFraud'].value_counts())  \n",
    "\n",
    "print(df['isFraud'].value_counts(normalize=True) * 100)"
   ]
  },
  {
   "cell_type": "code",
   "execution_count": 9,
   "id": "8e4e6602-2a6e-42b8-b6fa-c58422afebf9",
   "metadata": {},
   "outputs": [],
   "source": [
    "#dealing with the converting string to binary\n",
    "from sklearn.preprocessing import LabelEncoder\n",
    "le=LabelEncoder()\n",
    "df['type']=le.fit_transform(df['type'])"
   ]
  },
  {
   "cell_type": "code",
   "execution_count": 10,
   "id": "6bfef31f-5080-42be-9e9d-73072226bd3a",
   "metadata": {},
   "outputs": [],
   "source": [
    "X=df.drop(['isFraud'],axis='columns')\n",
    "y=df['isFraud']\n",
    "#balance the class weight\n",
    "from imblearn.over_sampling import SMOTE\n",
    "\n",
    "smote = SMOTE(random_state=42)\n",
    "X_resampled, y_resampled = smote.fit_resample(X, y)\n"
   ]
  },
  {
   "cell_type": "code",
   "execution_count": 16,
   "id": "bcd29d3c-0500-451f-8602-9d5b159ad14d",
   "metadata": {},
   "outputs": [
    {
     "data": {
      "text/plain": [
       "(12708814,)"
      ]
     },
     "execution_count": 16,
     "metadata": {},
     "output_type": "execute_result"
    }
   ],
   "source": [
    "X_resampled.shape\n",
    "y_resampled.shape"
   ]
  },
  {
   "cell_type": "code",
   "execution_count": 25,
   "id": "ba9216d4-b6a9-4034-b385-a63426ba7e49",
   "metadata": {},
   "outputs": [],
   "source": [
    "#spliting the data into training and testing\n",
    "from sklearn.model_selection import train_test_split\n",
    "\n",
    "X_train, X_test, y_train, y_test = train_test_split(X_resampled, y_resampled, test_size=0.4, stratify=y_resampled, random_state=42)"
   ]
  },
  {
   "cell_type": "code",
   "execution_count": 22,
   "id": "d84aa63f-5785-4ad9-bf45-e75c2e6cc440",
   "metadata": {},
   "outputs": [
    {
     "name": "stdout",
     "output_type": "stream",
     "text": [
      "XGBoost Cross-validation scores: [0.62895439 0.91918483 0.88632536 0.98916539 0.52719649]\n",
      "XGBoost Average CV Accuracy: 0.7901652929243591\n"
     ]
    }
   ],
   "source": [
    "#Training the model \n",
    "from sklearn.model_selection import cross_val_score\n",
    "from xgboost import XGBClassifier\n",
    "\n",
    "# Initializing XGBoost model (with GPU support if needed)\n",
    "xgb_model = XGBClassifier(\n",
    "    objective='binary:logistic',\n",
    "    tree_method='hist',       # or 'gpu_hist' if GPU\n",
    "    device='cuda',            # Use GPU if available\n",
    "    eval_metric='logloss',\n",
    "    random_state=42\n",
    ")\n",
    "\n",
    "# Performing the 5-fold cross-validation\n",
    "xgb_scores = cross_val_score(xgb_model, X_resampled, y_resampled, cv=5, scoring='accuracy', n_jobs=-1)\n",
    "\n",
    "print(\"XGBoost Cross-validation scores:\", xgb_scores)\n",
    "print(\"XGBoost Average CV Accuracy:\", xgb_scores.mean())\n",
    "\n"
   ]
  },
  {
   "cell_type": "code",
   "execution_count": 28,
   "id": "83f5dff3-eb3b-4ca6-aec0-e118db7994d4",
   "metadata": {},
   "outputs": [
    {
     "name": "stdout",
     "output_type": "stream",
     "text": [
      "Classification Report:\n",
      "               precision    recall  f1-score   support\n",
      "\n",
      "           0       1.00      1.00      1.00   2541763\n",
      "           1       1.00      1.00      1.00   2541763\n",
      "\n",
      "    accuracy                           1.00   5083526\n",
      "   macro avg       1.00      1.00      1.00   5083526\n",
      "weighted avg       1.00      1.00      1.00   5083526\n",
      "\n",
      "Confusion Matrix:\n",
      " [[2537029    4734]\n",
      " [   1444 2540319]]\n"
     ]
    }
   ],
   "source": [
    "from xgboost import XGBClassifier\n",
    "\n",
    "\n",
    "xgb_best = XGBClassifier(\n",
    "    tree_method='hist',         # Use 'gpu_hist' if using older XGBoost, or 'hist' + device='cuda' if 2.0+\n",
    "    device='cuda',              # For GPU acceleration (XGBoost >=2.0)\n",
    "    colsample_bytree=0.8123620356542087,\n",
    "    learning_rate=0.20014286128198325,\n",
    "    max_depth=8,\n",
    "    min_child_weight=1,\n",
    "    subsample=0.879055047383946,\n",
    "    random_state=42,\n",
    "    n_jobs=-1,\n",
    "    verbosity=1\n",
    ")\n",
    "xgb_best.fit(X_train, y_train)\n",
    "from sklearn.metrics import classification_report, confusion_matrix\n",
    "\n",
    "y_pred = xgb_best.predict(X_test)\n",
    "\n",
    "print(\"Classification Report:\\n\", classification_report(y_test, y_pred))\n",
    "print(\"Confusion Matrix:\\n\", confusion_matrix(y_test, y_pred))\n"
   ]
  },
  {
   "cell_type": "code",
   "execution_count": 29,
   "id": "d86378a7-0923-40d2-a97a-b1020a22ef79",
   "metadata": {},
   "outputs": [
    {
     "data": {
      "image/png": "[encoded data removed]",
      "text/plain": [
       "<Figure size 640x480 with 1 Axes>"
      ]
     },
     "metadata": {},
     "output_type": "display_data"
    }
   ],
   "source": [
    "import matplotlib.pyplot as plt\n",
    "from sklearn.metrics import ConfusionMatrixDisplay\n",
    "\n",
    "ConfusionMatrixDisplay.from_predictions(\n",
    "    y_test, y_pred,\n",
    "    display_labels=[\"Not Fraud\", \"Fraud\"],\n",
    "    cmap='Blues',\n",
    "    colorbar=False\n",
    ")\n",
    "plt.title(\"Confusion Matrix\")\n",
    "plt.show()\n"
   ]
  },
  {
   "cell_type": "code",
   "execution_count": 32,
   "id": "0db11693-0bec-4df7-b49a-0b2e74358f18",
   "metadata": {},
   "outputs": [
    {
     "name": "stdout",
     "output_type": "stream",
     "text": [
      "CatBoost Cross-validation scores: [0.77483079 0.98937108 0.81400151]\n",
      "CatBoost Average CV Accuracy: 0.859401127797632\n"
     ]
    }
   ],
   "source": [
    "from catboost import CatBoostClassifier\n",
    "from sklearn.model_selection import cross_val_score\n",
    "\n",
    "# Initialize CatBoost model\n",
    "cat_model = CatBoostClassifier(\n",
    "    task_type='GPU',      # Use GPU if available\n",
    "    verbose=0,\n",
    "    random_state=42\n",
    ")\n",
    "\n",
    "# 3-Fold Cross Validation\n",
    "cat_scores = cross_val_score(cat_model, X_resampled, y_resampled, cv=3, scoring='accuracy', n_jobs=-1)\n",
    "\n",
    "print(\"CatBoost Cross-validation scores:\", cat_scores)\n",
    "print(\"CatBoost Average CV Accuracy:\", cat_scores.mean())"
   ]
  },
  {
   "cell_type": "code",
   "execution_count": 34,
   "id": "4d7acea8-3ebb-46e2-8e51-3fc19561478c",
   "metadata": {},
   "outputs": [
    {
     "name": "stdout",
     "output_type": "stream",
     "text": [
      "Cross-validation scores: [0.56291884 0.98793751 0.98670151 0.49842487]\n",
      "Average cross-validation accuracy: 0.7589956834001204\n"
     ]
    }
   ],
   "source": [
    "#using the random forest\n",
    "from sklearn.ensemble import RandomForestClassifier\n",
    "\n",
    "\n",
    "# Initialize the Random Forest model\n",
    "rf_model = RandomForestClassifier(\n",
    "    n_estimators=100,  # Number of trees in the forest\n",
    "    max_depth=10,      # Maximum depth of the trees\n",
    "    random_state=42,   # For reproducibility\n",
    "    n_jobs=-1          # Use all available CPUs\n",
    ")\n",
    "\n",
    "# Perform cross-validation and evaluate the accuracy\n",
    "cv_scores = cross_val_score(rf_model, X_resampled, y_resampled, cv=4, scoring='accuracy')\n",
    "\n",
    "# Print the cross-validation results\n",
    "print(f\"Cross-validation scores: {cv_scores}\")\n",
    "print(f\"Average cross-validation accuracy: {cv_scores.mean()}\")\n"
   ]
  },
  {
   "cell_type": "code",
   "execution_count": 35,
   "id": "daa97fd2-0bab-4cb3-bb9a-74e99c87dfcc",
   "metadata": {},
   "outputs": [],
   "source": [
    "import numpy as np\n",
    "import tensorflow as tf\n",
    "from tensorflow.keras.models import Sequential\n",
    "from tensorflow.keras.layers import Dense, Dropout, BatchNormalization\n",
    "from tensorflow.keras.callbacks import EarlyStopping\n",
    "\n"
   ]
  },
  {
   "cell_type": "code",
   "execution_count": 36,
   "id": "d7cf6c47-51fd-4986-8e98-b41e1c1a0a05",
   "metadata": {},
   "outputs": [],
   "source": [
    "from sklearn.preprocessing import StandardScaler\n",
    "\n",
    "scaler = StandardScaler()\n",
    "X_train_scaled = scaler.fit_transform(X_train)\n",
    "X_test_scaled = scaler.transform(X_test)\n"
   ]
  },
  {
   "cell_type": "code",
   "execution_count": 37,
   "id": "ff6ea72e-be1b-4bad-bed3-c9f00a36dded",
   "metadata": {},
   "outputs": [
    {
     "name": "stderr",
     "output_type": "stream",
     "text": [
      "C:\\Users\\Sharan\\anaconda3\\Lib\\site-packages\\keras\\src\\layers\\core\\dense.py:87: UserWarning: Do not pass an `input_shape`/`input_dim` argument to a layer. When using Sequential models, prefer using an `Input(shape)` object as the first layer in the model instead.\n",
      "  super().__init__(activity_regularizer=activity_regularizer, **kwargs)\n"
     ]
    }
   ],
   "source": [
    "model = Sequential([\n",
    "    Dense(128, activation='relu', input_dim=X_train_scaled.shape[1]),\n",
    "    BatchNormalization(),\n",
    "    Dropout(0.3),\n",
    "    \n",
    "    Dense(64, activation='relu'),\n",
    "    BatchNormalization(),\n",
    "    Dropout(0.3),\n",
    "    \n",
    "    Dense(32, activation='relu'),\n",
    "    Dropout(0.2),\n",
    "    \n",
    "    Dense(1, activation='sigmoid')  # Binary classification\n",
    "])\n",
    "\n",
    "model.compile(\n",
    "    loss='binary_crossentropy',\n",
    "    optimizer='adam',\n",
    "    metrics=['accuracy']\n",
    ")\n"
   ]
  },
  {
   "cell_type": "code",
   "execution_count": 39,
   "id": "ec5959b2-3a17-49e4-9cb6-ab75ad5a8777",
   "metadata": {},
   "outputs": [
    {
     "name": "stdout",
     "output_type": "stream",
     "text": [
      "Epoch 1/100\n",
      "745/745 - 9s - 13ms/step - accuracy: 0.9883 - loss: 0.0370 - val_accuracy: 0.9912 - val_loss: 0.0305\n",
      "Epoch 2/100\n",
      "745/745 - 10s - 13ms/step - accuracy: 0.9895 - loss: 0.0334 - val_accuracy: 0.9804 - val_loss: 0.0621\n",
      "Epoch 3/100\n",
      "745/745 - 10s - 13ms/step - accuracy: 0.9902 - loss: 0.0320 - val_accuracy: 0.9927 - val_loss: 0.0228\n",
      "Epoch 4/100\n",
      "745/745 - 10s - 14ms/step - accuracy: 0.9900 - loss: 0.0322 - val_accuracy: 0.9892 - val_loss: 0.0319\n",
      "Epoch 5/100\n",
      "745/745 - 10s - 13ms/step - accuracy: 0.9895 - loss: 0.0333 - val_accuracy: 0.9941 - val_loss: 0.0269\n",
      "Epoch 6/100\n",
      "745/745 - 10s - 13ms/step - accuracy: 0.9905 - loss: 0.0308 - val_accuracy: 0.9203 - val_loss: 0.2769\n",
      "Epoch 7/100\n",
      "745/745 - 10s - 13ms/step - accuracy: 0.9898 - loss: 0.0322 - val_accuracy: 0.9713 - val_loss: 0.0578\n",
      "Epoch 8/100\n",
      "745/745 - 10s - 13ms/step - accuracy: 0.9904 - loss: 0.0309 - val_accuracy: 0.9880 - val_loss: 0.0349\n"
     ]
    }
   ],
   "source": [
    "es = EarlyStopping(monitor='val_loss', mode='min', patience=5, restore_best_weights=True)\n",
    "\n",
    "history = model.fit(\n",
    "    X_train_scaled, y_train,\n",
    "    validation_split=0.2,\n",
    "    epochs=100,\n",
    "    batch_size=8192,\n",
    "    callbacks=[es],\n",
    "    verbose=2\n",
    ")\n"
   ]
  },
  {
   "cell_type": "code",
   "execution_count": 40,
   "id": "bf3350aa-88aa-4ac5-8064-0e71b5772b2d",
   "metadata": {},
   "outputs": [
    {
     "name": "stdout",
     "output_type": "stream",
     "text": [
      "\u001b[1m158861/158861\u001b[0m \u001b[32m━━━━━━━━━━━━━━━━━━━━\u001b[0m\u001b[37m\u001b[0m \u001b[1m99s\u001b[0m 623us/step\n",
      "              precision    recall  f1-score   support\n",
      "\n",
      "           0       1.00      0.99      0.99   2541763\n",
      "           1       0.99      1.00      0.99   2541763\n",
      "\n",
      "    accuracy                           0.99   5083526\n",
      "   macro avg       0.99      0.99      0.99   5083526\n",
      "weighted avg       0.99      0.99      0.99   5083526\n",
      "\n",
      "[[2517213   24550]\n",
      " [  12103 2529660]]\n"
     ]
    }
   ],
   "source": [
    "y_pred = model.predict(X_test_scaled)\n",
    "y_pred_binary = (y_pred > 0.5).astype(int)\n",
    "\n",
    "print(classification_report(y_test, y_pred_binary))\n",
    "print(confusion_matrix(y_test, y_pred_binary))\n"
   ]
  },
  {
   "cell_type": "code",
   "execution_count": 48,
   "id": "69e2351b-76a2-4fec-8043-6041c4983f03",
   "metadata": {},
   "outputs": [
    {
     "data": {
      "text/plain": [
       "<Figure size 1000x600 with 0 Axes>"
      ]
     },
     "metadata": {},
     "output_type": "display_data"
    },
    {
     "data": {
      "image/png": "[encoded data removed]",
      "text/plain": [
       "<Figure size 640x480 with 1 Axes>"
      ]
     },
     "metadata": {},
     "output_type": "display_data"
    }
   ],
   "source": [
    "import xgboost as xgb\n",
    "import matplotlib.pyplot as plt\n",
    "\n",
    "# Fit model\n",
    "model = xgb.XGBClassifier(tree_method='hist', device='cuda', random_state=42)\n",
    "model.fit(X_train, y_train)\n",
    "\n",
    "# Plot feature importance\n",
    "plt.figure(figsize=(10, 6))\n",
    "xgb.plot_importance(model, importance_type='gain', max_num_features=5)\n",
    "plt.title('Top 5 Feature Importances')\n",
    "plt.savefig(\"feature_importance.png\") \n",
    "plt.show()\n"
   ]
  },
  {
   "cell_type": "code",
   "execution_count": 51,
   "id": "9a5d217f-55dc-4589-8d8b-464ca3ddf27c",
   "metadata": {},
   "outputs": [
    {
     "name": "stdout",
     "output_type": "stream",
     "text": [
      "0:\tlearn: 0.2791120\ttotal: 900ms\tremaining: 14m 59s\n",
      "100:\tlearn: 0.0099882\ttotal: 1m 24s\tremaining: 12m 31s\n",
      "200:\tlearn: 0.0064817\ttotal: 2m 52s\tremaining: 11m 25s\n",
      "300:\tlearn: 0.0052355\ttotal: 4m 13s\tremaining: 9m 48s\n",
      "400:\tlearn: 0.0050488\ttotal: 5m 26s\tremaining: 8m 7s\n",
      "500:\tlearn: 0.0046252\ttotal: 6m 43s\tremaining: 6m 41s\n",
      "600:\tlearn: 0.0043810\ttotal: 8m 1s\tremaining: 5m 19s\n",
      "700:\tlearn: 0.0041704\ttotal: 9m 17s\tremaining: 3m 57s\n",
      "800:\tlearn: 0.0039723\ttotal: 10m 37s\tremaining: 2m 38s\n",
      "900:\tlearn: 0.0038695\ttotal: 11m 54s\tremaining: 1m 18s\n",
      "999:\tlearn: 0.0038360\ttotal: 13m 8s\tremaining: 0us\n",
      "Training Set Evaluation:\n",
      "              precision    recall  f1-score   support\n",
      "\n",
      "           0       1.00      1.00      1.00   3812644\n",
      "           1       1.00      1.00      1.00   3812644\n",
      "\n",
      "    accuracy                           1.00   7625288\n",
      "   macro avg       1.00      1.00      1.00   7625288\n",
      "weighted avg       1.00      1.00      1.00   7625288\n",
      "\n",
      "Testing Set Evaluation:\n",
      "              precision    recall  f1-score   support\n",
      "\n",
      "           0       1.00      1.00      1.00   2541763\n",
      "           1       1.00      1.00      1.00   2541763\n",
      "\n",
      "    accuracy                           1.00   5083526\n",
      "   macro avg       1.00      1.00      1.00   5083526\n",
      "weighted avg       1.00      1.00      1.00   5083526\n",
      "\n"
     ]
    },
    {
     "data": {
      "image/png": "[encoded data removed]",
      "text/plain": [
       "<Figure size 800x600 with 2 Axes>"
      ]
     },
     "metadata": {},
     "output_type": "display_data"
    },
    {
     "name": "stdout",
     "output_type": "stream",
     "text": [
      "Training Accuracy: 0.9990\n",
      "Testing Accuracy: 0.9989\n"
     ]
    }
   ],
   "source": [
    "from catboost import CatBoostClassifier\n",
    "from sklearn.metrics import classification_report, confusion_matrix\n",
    "import matplotlib.pyplot as plt\n",
    "import seaborn as sns\n",
    "\n",
    "# Initialize the CatBoost model with the best hyperparameters\n",
    "catboost_model = CatBoostClassifier(\n",
    "    iterations=1000,\n",
    "    depth=8,\n",
    "    learning_rate=0.2,\n",
    "    colsample_bylevel=0.8,\n",
    "    random_seed=42\n",
    ")\n",
    "\n",
    "# Train the model on the entire dataset\n",
    "catboost_model.fit(X_train, y_train,verbose=100)\n",
    "\n",
    "# Make predictions on the training set and testing set\n",
    "train_predictions = catboost_model.predict(X_train)\n",
    "test_predictions = catboost_model.predict(X_test)\n",
    "\n",
    "# Evaluate the model on the training set\n",
    "print(\"Training Set Evaluation:\")\n",
    "print(classification_report(y_train, train_predictions))\n",
    "\n",
    "# Evaluate the model on the testing set\n",
    "print(\"Testing Set Evaluation:\")\n",
    "print(classification_report(y_test, test_predictions))\n",
    "\n",
    "# Confusion Matrix for Testing Set\n",
    "cm = confusion_matrix(y_test, test_predictions)\n",
    "\n",
    "# Plotting confusion matrix\n",
    "plt.figure(figsize=(8, 6))\n",
    "sns.heatmap(cm, annot=True, fmt=\"d\", cmap=\"Blues\", xticklabels=[\"Non-Fraud\", \"Fraud\"], yticklabels=[\"Non-Fraud\", \"Fraud\"])\n",
    "plt.title(\"Confusion Matrix\")\n",
    "plt.xlabel(\"Predicted\")\n",
    "plt.ylabel(\"True\")\n",
    "plt.show()\n",
    "\n",
    "# Accuracy for both training and testing sets\n",
    "train_accuracy = (train_predictions == y_train).mean()\n",
    "test_accuracy = (test_predictions == y_test).mean()\n",
    "\n",
    "print(f\"Training Accuracy: {train_accuracy:.4f}\")\n",
    "print(f\"Testing Accuracy: {test_accuracy:.4f}\")\n",
    "\n",
    "# Save the trained model after evaluation\n",
    "catboost_model.save_model('fraud_detection_catboost_model.cbm')\n"
   ]
  },
  {
   "cell_type": "code",
   "execution_count": null,
   "id": "73044d73-e7ac-472f-8f14-a4b647daeffa",
   "metadata": {},
   "outputs": [],
   "source": []
  },
  {
   "cell_type": "code",
   "execution_count": null,
   "id": "4bcdbfa8-12da-45a2-877c-b1fb6260fa3c",
   "metadata": {},
   "outputs": [],
   "source": []
  },
  {
   "cell_type": "code",
   "execution_count": null,
   "id": "9ea80a70-c46e-481b-bede-9abe85a5c8f1",
   "metadata": {},
   "outputs": [],
   "source": []
  },
  {
   "cell_type": "code",
   "execution_count": null,
   "id": "678c4e02-5e40-4639-83dc-92cb559e8c53",
   "metadata": {},
   "outputs": [],
   "source": []
  }
 ],
 "metadata": {
  "kernelspec": {
   "display_name": "Python 3 (ipykernel)",
   "language": "python",
   "name": "python3"
  },
  "language_info": {
   "codemirror_mode": {
    "name": "ipython",
    "version": 3
   },
   "file_extension": ".py",
   "mimetype": "text/x-python",
   "name": "python",
   "nbconvert_exporter": "python",
   "pygments_lexer": "ipython3",
   "version": "3.12.7"
  }
 },
 "nbformat": 4,
 "nbformat_minor": 5
}
